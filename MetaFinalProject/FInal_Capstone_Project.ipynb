{
 "cells": [
  {
   "cell_type": "code",
   "execution_count": 4,
   "id": "38ce46dd-be5a-4f8c-810b-16de4f521d0f",
   "metadata": {},
   "outputs": [],
   "source": [
    "# import mysql connector\n",
    "import mysql.connector as connector\n",
    "\n"
   ]
  },
  {
   "cell_type": "code",
   "execution_count": 5,
   "id": "20e792a5-5e82-408d-a89d-9b79455b1e12",
   "metadata": {},
   "outputs": [],
   "source": [
    "# Establish connection \n",
    "connection=connector.connect(\n",
    "                             user=\"root\", # use your own\n",
    "                             password=\"7Wilson1!\", # use your own\n",
    "                             database=\"LittleLemonDB\"\n",
    "                            )"
   ]
  },
  {
   "cell_type": "code",
   "execution_count": 6,
   "id": "144bd21c-ff16-4631-8a76-705605c7c57e",
   "metadata": {},
   "outputs": [],
   "source": [
    "# Create a cursor object to communicate with entire MySQL database\n",
    "cursor = connection.cursor()"
   ]
  },
  {
   "cell_type": "code",
   "execution_count": 7,
   "id": "31b9dfc5-52b2-4690-a4c9-a0eaebd24a10",
   "metadata": {},
   "outputs": [
    {
     "data": {
      "text/plain": [
       "'LittleLemonDB'"
      ]
     },
     "execution_count": 7,
     "metadata": {},
     "output_type": "execute_result"
    }
   ],
   "source": [
    "# Set the little_lemon database for use \n",
    "cursor.execute(\"USE LittleLemonDB\")\n",
    "\n",
    "# Confirm the database in use\n",
    "connection.database\n",
    "\n"
   ]
  },
  {
   "cell_type": "code",
   "execution_count": 8,
   "id": "c766488f-8327-4733-bafb-a4170cdca252",
   "metadata": {},
   "outputs": [
    {
     "name": "stdout",
     "output_type": "stream",
     "text": [
      "()\n",
      "('Bookings',)\n",
      "('Customer',)\n",
      "('Employees',)\n",
      "('MenuItems',)\n",
      "('Menus',)\n",
      "('Orders',)\n"
     ]
    }
   ],
   "source": [
    "#Task 2 - Query Database to show tables present in DB\n",
    "\n",
    "# create SQL query as a string object and add to a variable\n",
    "tables = \"\"\"SHOW TABLES\"\"\" \n",
    "\n",
    "# execute the query\n",
    "cursor.execute(tables)\n",
    "\n",
    "# fetch the results from the cursor\n",
    "results = cursor.fetchall()\n",
    "\n",
    "# Retrieve the column names\n",
    "cols = cursor.column_names[1:]\n",
    "\n",
    "# print column names and the records from results using for loop\n",
    "print(cols)\n",
    "for result in results:\n",
    "    print(result)"
   ]
  },
  {
   "cell_type": "code",
   "execution_count": 15,
   "id": "f367a504-b5f5-41c6-bfb0-b2ea0f49153c",
   "metadata": {},
   "outputs": [
    {
     "name": "stdout",
     "output_type": "stream",
     "text": [
      "Little Lemon customers with orders greater than $60:\n",
      "('Customer_ID', 'Customer_Name', 'Customer_Contact', 'Total_Cost')\n",
      "(1, 'Vanessa McCarthy', 12345, 250)\n",
      "(2, 'Marcos Romero', 67891, 200)\n",
      "(3, 'Anna Iversen', 19876, 150)\n",
      "(4, 'Joakim Iversen', 65432, 100)\n"
     ]
    }
   ],
   "source": [
    "#Task 3 - Return the full name and contact details for every customer that has placed an order greater \n",
    "#than $60 for a promotional campaign.\n",
    "\n",
    "\n",
    "orders = \"\"\"\n",
    "SELECT Customer.Customer_ID, Customer.Customer_Name, Customer.Customer_Contact, Orders.Total_Cost\n",
    "FROM Orders\n",
    "INNER JOIN Customer\n",
    "  ON Orders.Customer_ID = Customer.Customer_ID\n",
    "WHERE Orders.Total_Cost > 60\n",
    "\"\"\"\n",
    "\n",
    "# execute the query\n",
    "cursor.execute(orders)\n",
    "\n",
    "# fetch results from the cursor, store in  a variable\n",
    "results = cursor.fetchall()\n",
    "\n",
    "# retrieve column names from the cursor\n",
    "cols = cursor.column_names\n",
    "\n",
    "# print the cols and results\n",
    "print(\"Little Lemon customers with orders greater than $60:\")\n",
    "print(cols)\n",
    "for result in results:\n",
    "    print(result)"
   ]
  },
  {
   "cell_type": "code",
   "execution_count": 16,
   "id": "42b76413-e371-4df5-af56-4309c217cb02",
   "metadata": {},
   "outputs": [
    {
     "name": "stdout",
     "output_type": "stream",
     "text": [
      "MySQL cursor and connection is closed.\n"
     ]
    }
   ],
   "source": [
    "# Close the cursor and the connection\n",
    "if connection.is_connected():\n",
    "    cursor.close()\n",
    "    connection.close()\n",
    "    print(\"MySQL cursor and connection is closed.\")\n",
    "else:\n",
    "    print(\"Connection is already closed.\")"
   ]
  },
  {
   "cell_type": "code",
   "execution_count": null,
   "id": "b2113e9e-9d8b-4b0a-8e2d-5d3950e39d92",
   "metadata": {},
   "outputs": [],
   "source": []
  }
 ],
 "metadata": {
  "kernelspec": {
   "display_name": "Python 3 (ipykernel)",
   "language": "python",
   "name": "python3"
  },
  "language_info": {
   "codemirror_mode": {
    "name": "ipython",
    "version": 3
   },
   "file_extension": ".py",
   "mimetype": "text/x-python",
   "name": "python",
   "nbconvert_exporter": "python",
   "pygments_lexer": "ipython3",
   "version": "3.9.18"
  }
 },
 "nbformat": 4,
 "nbformat_minor": 5
}
